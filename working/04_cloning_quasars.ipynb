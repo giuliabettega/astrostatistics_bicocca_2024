{
 "cells": [
  {
   "cell_type": "markdown",
   "id": "c06e626b-1df7-4156-8136-edbf26ac60fd",
   "metadata": {},
   "source": [
    "## 04. [14032024] Cloning Quasars\n",
    "\n",
    "* Download the SDSS quasara data\n",
    "* Upsample this distribution in two ways, using both rejection sampling and inverse transform.\n",
    "* Check, at least visually, that the two cloned distribitions are indeed similar to the observed one (for a quantitative check, come back to this point in a few lectures) (Hint: scipy.stats is your best friend)\n",
    "* Think about the cosmology of quasars. How do you think they are distributed? Overplot the theorethical distribution to the measured SDSS data (Hint: astropy.cosmology is another close friend).\n",
    "The best-fit cosmological model from the Planck data is:\n",
    "\n",
    "`import astropy` \\\n",
    "`astropy.cosmology.Planck15`"
   ]
  },
  {
   "cell_type": "code",
   "execution_count": 1,
   "id": "b7a9c5fe-55f9-458a-a9ea-a8d3111e6d51",
   "metadata": {},
   "outputs": [],
   "source": [
    "import numpy as np\n",
    "from matplotlib import pyplot as plt\n",
    "from scipy import stats, interpolate\n",
    "from astropy.visualization import hist\n",
    "from astroML.density_estimation import EmpiricalDistribution\n",
    "from astroML.datasets import fetch_dr7_quasar"
   ]
  },
  {
   "cell_type": "code",
   "execution_count": 25,
   "id": "56a4f62b-4c3c-4cea-985f-c43f66f11825",
   "metadata": {},
   "outputs": [
    {
     "name": "stdout",
     "output_type": "stream",
     "text": [
      "5.4135 0.0802\n"
     ]
    },
    {
     "data": {
      "image/png": "[encoded data removed]",
      "text/plain": [
       "<Figure size 640x480 with 1 Axes>"
      ]
     },
     "metadata": {},
     "output_type": "display_data"
    },
    {
     "name": "stdout",
     "output_type": "stream",
     "text": [
      "(100,) [0.0802     0.133533   0.186866   0.240199   0.29353198 0.346865\n",
      " 0.40019798 0.453531   0.506864   0.560197   0.61353    0.66686296\n",
      " 0.720196   0.773529   0.826862   0.88019496 0.93352795 0.986861\n",
      " 1.0401939  1.093527   1.14686    1.2001929  1.253526   1.306859\n",
      " 1.360192   1.413525   1.4668579  1.520191   1.573524   1.6268569\n",
      " 1.68019    1.7335229  1.7868559  1.840189   1.8935219  1.946855\n",
      " 2.0001879  2.053521   2.106854   2.160187   2.21352    2.2668529\n",
      " 2.320186   2.373519   2.426852   2.480185   2.5335178  2.586851\n",
      " 2.640184   2.693517   2.74685    2.8001828  2.8535159  2.906849\n",
      " 2.960182   3.013515   3.0668478  3.1201808  3.173514   3.226847\n",
      " 3.28018    3.3335128  3.3868458  3.4401789  3.493512   3.546845\n",
      " 3.600178   3.6535108  3.7068439  3.760177   3.81351    3.866843\n",
      " 3.9201758  3.9735088  4.0268416  4.080175   4.1335077  4.186841\n",
      " 4.240174   4.293507   4.34684    4.4001727  4.453506   4.506839\n",
      " 4.560172   4.613505   4.6668377  4.720171   4.773504   4.826837\n",
      " 4.88017    4.9335027  4.986836   5.040169   5.093502   5.146835\n",
      " 5.2001677  5.253501   5.3068337  5.360167   5.4135    ]\n"
     ]
    }
   ],
   "source": [
    "# Fetch the quasar data\n",
    "data = fetch_dr7_quasar()\n",
    "\n",
    "# select the first 10000 points\n",
    "data = data[:10000]\n",
    "\n",
    "z = data['redshift']\n",
    "\n",
    "print(np.max(z), np.min(z))\n",
    "\n",
    "plt.hist(z, bins=100, density=True)\n",
    "counts, bins = np.histogram(z, bins=100, density=True)\n",
    "plt.title (\"z normalised distribution\")\n",
    "plt.show()\n",
    "\n",
    "print(counts.shape, bins)"
   ]
  },
  {
   "cell_type": "markdown",
   "id": "a0022702-95ea-4f22-8747-ad32a6997dcf",
   "metadata": {},
   "source": [
    "### Rejection Sampling"
   ]
  },
  {
   "cell_type": "code",
   "execution_count": 32,
   "id": "d3e0304b-448e-42c9-892a-8aae095ef6fc",
   "metadata": {},
   "outputs": [],
   "source": [
    "N = 1000\n",
    "\n",
    "ymax = 0.65\n",
    "x = np.random.uniform(0, 5.5, N)\n",
    "y = np.random.uniform(0, ymax, N)\n",
    "\n",
    "#goodpoints = x[y<counts[x<bins]]\n",
    "\n",
    "goodpoints = []\n",
    "for i in range(counts.size):\n",
    "    goodpoints.append(x[y<counts[i]])\n",
    "\n",
    "for i in range(\n",
    "#print(goodpoints) in questo modo ho una lista di array contenenti i valori di x salvati per ogni bin\n",
    "# non posso farne l'istogrammaaaaaaa"
   ]
  }
 ],
 "metadata": {
  "kernelspec": {
   "display_name": "Python 3 (ipykernel)",
   "language": "python",
   "name": "python3"
  },
  "language_info": {
   "codemirror_mode": {
    "name": "ipython",
    "version": 3
   },
   "file_extension": ".py",
   "mimetype": "text/x-python",
   "name": "python",
   "nbconvert_exporter": "python",
   "pygments_lexer": "ipython3",
   "version": "3.10.11"
  }
 },
 "nbformat": 4,
 "nbformat_minor": 5
}
