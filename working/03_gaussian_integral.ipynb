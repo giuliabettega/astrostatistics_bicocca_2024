{
 "cells": [
  {
   "cell_type": "code",
   "execution_count": null,
   "id": "8e6338b5-7cbb-41fc-8b36-8c8adf9ba566",
   "metadata": {},
   "outputs": [],
   "source": [
    "import numpy as np\n",
    "import scipy.stats\n",
    "import pylab as plt\n",
    "plt.rcParams['figure.figsize'] = [8, 8]"
   ]
  },
  {
   "cell_type": "code",
   "execution_count": null,
   "id": "77388bd9-9bf3-4219-a787-f382b2e8bb7d",
   "metadata": {},
   "outputs": [],
   "source": [
    "N = 100000 #number of samples\n",
    "\n",
    "mu = 0\n",
    "sigma = 0.5\n",
    "xi = np.random.normal(mu, sigma, N) #sampling from a gaussian distribution\n",
    "\n",
    "integral = (sigma*(sqrt(2*np.pi))/2) * np.mean(xi**3)\n",
    "expected_integral = 2*sigma**4\n",
    "\n",
    "var = np.var(xi)\n",
    "std = np.std(xi)\n",
    "\n",
    "\n"
   ]
  }
 ],
 "metadata": {
  "kernelspec": {
   "display_name": "Python 3 (ipykernel)",
   "language": "python",
   "name": "python3"
  },
  "language_info": {
   "codemirror_mode": {
    "name": "ipython",
    "version": 3
   },
   "file_extension": ".py",
   "mimetype": "text/x-python",
   "name": "python",
   "nbconvert_exporter": "python",
   "pygments_lexer": "ipython3",
   "version": "3.10.11"
  }
 },
 "nbformat": 4,
 "nbformat_minor": 5
}
