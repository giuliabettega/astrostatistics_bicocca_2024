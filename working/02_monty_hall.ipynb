{
 "cells": [
  {
   "cell_type": "code",
   "execution_count": 1,
   "id": "81912f0a-ac2f-445d-81d6-e15b4ff31322",
   "metadata": {},
   "outputs": [],
   "source": [
    "import numpy as np\n",
    "import matplotlib.pyplot as plt"
   ]
  },
  {
   "cell_type": "code",
   "execution_count": 2,
   "id": "84fce5ec-2d55-4f85-9962-602cd3126647",
   "metadata": {},
   "outputs": [],
   "source": [
    "def emptydoor_fun(playerchoice, doorwithcar): #function to open the empty door that was not chosen by the player\n",
    "    for i in range(3): \n",
    "        emptydoor = i\n",
    "        if emptydoor != playerchoice and emptydoor != doorwithcar: return emptydoor"
   ]
  },
  {
   "cell_type": "code",
   "execution_count": 3,
   "id": "fc928f0b-35e6-4825-92ef-6822fdbcf8fb",
   "metadata": {},
   "outputs": [],
   "source": [
    "def changedoor_fun(prevchoice, emptydoor): #function to let the switcher change door having seen the empty one\n",
    "    for i in range(3):\n",
    "        newchoice = i\n",
    "        if newchoice != prevchoice and newchoice != emptydoor: return newchoice"
   ]
  },
  {
   "cell_type": "code",
   "execution_count": 4,
   "id": "2738d958-d6c9-4563-b707-57dfd564fd0e",
   "metadata": {},
   "outputs": [],
   "source": [
    "def newcomer_fun(emptydoor): #function to let the newcomer choose between the two remaining doors\n",
    "    for i in range(3):\n",
    "        choice = i\n",
    "        if choice != emptydoor: return choice"
   ]
  },
  {
   "cell_type": "code",
   "execution_count": 5,
   "id": "af5e6001-c2be-4336-a245-e65da7a4c508",
   "metadata": {},
   "outputs": [
    {
     "name": "stdin",
     "output_type": "stream",
     "text": [
      "How many times do you want to play?  3000\n"
     ]
    }
   ],
   "source": [
    "#let's play: how many times do you want to try this game?\n",
    "times = int(input(\"How many times do you want to play? \"))"
   ]
  },
  {
   "cell_type": "code",
   "execution_count": 6,
   "id": "d3384b84-5db1-45e6-aa21-5f90123af304",
   "metadata": {},
   "outputs": [],
   "source": [
    "conservative = [] #saving the results in list (0=loss, 1=win) for every game\n",
    "switcher = []\n",
    "newcomer = []\n",
    "\n",
    "for i in range(times):\n",
    "    doors = [0, 0, 0]\n",
    "    door_with_car = np.random.randint(3) #number of the door with the car\n",
    "    doors[door_with_car] = 1\n",
    "        #print(doors)\n",
    "    \n",
    "    #first (uninformed) choice of the players\n",
    "    conservative_pl = np.random.randint(3)\n",
    "    switcher_pl = np.random.randint(3)\n",
    "        #print(conservative_pl, switcher_pl)\n",
    "    \n",
    "    #i need to open an EMPTY door that has not been picked by the players\n",
    "    empty_door_cons = emptydoor_fun(conservative_pl, door_with_car)     \n",
    "    empty_door_switch = emptydoor_fun(switcher_pl, door_with_car)\n",
    "        #print(empty_door_cons, empty_door_switch)\n",
    "    \n",
    "    #the switcher changes door\n",
    "    switcher_pl = changedoor_fun(switcher_pl, empty_door_switch)\n",
    "    \n",
    "    #enter the newcomer, after the switcher\n",
    "    newcomer_pl = newcomer_fun(empty_door_switch)\n",
    "        #print(conservative_pl, switcher_pl, newcomer_pl)\n",
    "\n",
    "    #saving the results of the game\n",
    "    if doors[conservative_pl] == doors[door_with_car]: conservative.append(1) \n",
    "    elif doors[conservative_pl] != doors[door_with_car]: conservative.append(0)\n",
    "\n",
    "    if doors[switcher_pl] == doors[door_with_car]: switcher.append(1)\n",
    "    elif doors[switcher_pl] != doors[door_with_car]: switcher.append(0)\n",
    "\n",
    "    if doors[newcomer_pl] == doors[door_with_car]: newcomer.append(1)\n",
    "    elif doors[newcomer_pl] != doors[door_with_car]: newcomer.append(0)"
   ]
  },
  {
   "cell_type": "code",
   "execution_count": 9,
   "id": "f9a5cf1b-9522-446a-99af-193f5705e4fd",
   "metadata": {},
   "outputs": [
    {
     "data": {
      "image/png": "[encoded data removed]",
      "text/plain": [
       "<Figure size 640x480 with 1 Axes>"
      ]
     },
     "metadata": {},
     "output_type": "display_data"
    }
   ],
   "source": [
    "#plot a histogram for the total wins of each player over all games\n",
    "\n",
    "data = {\"conservative\": sum(conservative)/times, \"switcher\": sum(switcher)/times, \"newcomer\": sum(newcomer)/times}\n",
    "players = list(data.keys())\n",
    "wins = list(data.values())\n",
    "\n",
    "fig, ax = plt.subplots()\n",
    "ax.bar(players, wins)\n",
    "fig.suptitle(\"Percentage of wins for each player over \" + str(times) + \" games\")\n",
    "\n",
    "plt.show()"
   ]
  },
  {
   "cell_type": "code",
   "execution_count": 13,
   "id": "ba2e2e2f-2b72-472d-952b-a236ae42dd99",
   "metadata": {},
   "outputs": [
    {
     "name": "stdin",
     "output_type": "stream",
     "text": [
      "How many doors do you want?  30\n",
      "How many doors do you want the presenter to open? 40\n",
      "The presenter must open less then the total number of doors minus two:  26\n"
     ]
    }
   ],
   "source": [
    "N = int(input(\"How many doors do you want? \")) #choosing the number of doors \n",
    "M = int(input(\"How many doors do you want the presenter to open?\" ))\n",
    "if M > N-2 : M = int(input(\"The presenter must open less then the total number of doors minus two: \"))"
   ]
  },
  {
   "cell_type": "code",
   "execution_count": null,
   "id": "2d899e62-d6bf-4fbc-b731-efb69d26a9b1",
   "metadata": {},
   "outputs": [],
   "source": []
  }
 ],
 "metadata": {
  "kernelspec": {
   "display_name": "Python 3 (ipykernel)",
   "language": "python",
   "name": "python3"
  },
  "language_info": {
   "codemirror_mode": {
    "name": "ipython",
    "version": 3
   },
   "file_extension": ".py",
   "mimetype": "text/x-python",
   "name": "python",
   "nbconvert_exporter": "python",
   "pygments_lexer": "ipython3",
   "version": "3.10.11"
  }
 },
 "nbformat": 4,
 "nbformat_minor": 5
}
